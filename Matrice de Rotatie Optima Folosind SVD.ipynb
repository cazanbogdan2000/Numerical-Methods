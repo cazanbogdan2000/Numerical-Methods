{
 "cells": [
  {
   "cell_type": "markdown",
   "metadata": {},
   "source": [
    "# Matrice de Rotatie Optima Folosind SVD"
   ]
  },
  {
   "cell_type": "markdown",
   "metadata": {},
   "source": [
    "In cele ce urmeaza, vom vedea cum putem calcula o matrice de rotatie folosind algoritmul Kabsch. Acest algoritm ne da cea mai buna astfel de matrice, pe scurt matricea de rotatie optima."
   ]
  },
  {
   "cell_type": "markdown",
   "metadata": {},
   "source": [
    "### De unde necesitatea unei astfel de matrice?"
   ]
  },
  {
   "cell_type": "markdown",
   "metadata": {},
   "source": [
    "O astfel de matrice este des intalnita in problema ortogonalitatii Procust. De unde aceasta denumire, si ce reprezinta de fapt aceasta noua problema?"
   ]
  },
  {
   "cell_type": "markdown",
   "metadata": {},
   "source": [
    "De multe ori intalnita si sub denumirea de superimpositie Procust (Procustes superimposition), acest nume pompos nu trebuie sa ne sperie deloc. Procust este un bandit din Grecia Antica, bine cunoscut pentru faptul ca isi tortura victimele prin alungirea membrelor sau trunchiului de asa maniera incat sa ocupe intreaga lungime a patului sau."
   ]
  },
  {
   "cell_type": "markdown",
   "metadata": {},
   "source": [
    "Acest mit al lui Procust este regasit in multe zone, sub diferite aspecte. Mai mult ca sigur ati auzit de Patul lui Procust de Camil Petrescu, pe care o recomand cu drag ca si lectura suplimentara, insa nu acesta este scopul cursului. O alta carte, mult mai interesanta decat cea amintita anterior, se poate gasi aici: https://en.wikipedia.org/wiki/The_Bed_of_Procrustes."
   ]
  },
  {
   "cell_type": "markdown",
   "metadata": {},
   "source": [
    "### Deci, care este problema lui Procust?"
   ]
  },
  {
   "cell_type": "markdown",
   "metadata": {},
   "source": [
    "Problema lui Procust este o problema de aproximare a matricilor, de a gasi ceva \"asemanator\" intre 2 matrici. Scopul acestei probleme este de a gasi o matrice ortogonala, $\\Omega$, care sa \"mapeze\" o matrice data A, pe o alta matrice data B."
   ]
  },
  {
   "cell_type": "markdown",
   "metadata": {},
   "source": [
    "Algoritmul Kabsch nu este altceva decat un caz mai specific al problemei lui Procust, reprezentand anume cazul in care apar fenomenele de translatie si rotatie."
   ]
  },
  {
   "cell_type": "markdown",
   "metadata": {},
   "source": [
    "Haideti sa consideram urmatoarea problema: la un studiu participa 7 barbati si 7 femei; pentru fiecare dintre acestia, avem 3 detalii importante: varsta, inaltime si greutate. Datele sunt reprezentate pe 3 coloane, in doua matrici diferite: una pentru barbati, si cealalta pentru femei.\n"
   ]
  },
  {
   "cell_type": "code",
   "execution_count": 3,
   "metadata": {},
   "outputs": [
    {
     "name": "stdout",
     "output_type": "stream",
     "text": [
      "Men =\r\n",
      "\r\n",
      "    25   174    79\r\n",
      "    33   181    76\r\n",
      "    27   178    87\r\n",
      "    57   178    91\r\n",
      "    68   167    74\r\n",
      "    41   186    86\r\n",
      "    38   184    90\r\n",
      "\r\n"
     ]
    }
   ],
   "source": [
    "Men = [25 174 79; 33 181 76; 27 178 87; 57 178 91; 68 167 74; 41 186 86; 38 184 90]"
   ]
  },
  {
   "cell_type": "code",
   "execution_count": 4,
   "metadata": {},
   "outputs": [
    {
     "name": "stdout",
     "output_type": "stream",
     "text": [
      "Women =\r\n",
      "\r\n",
      "    67   165    68\r\n",
      "    35   171    65\r\n",
      "    44   156    49\r\n",
      "    53   169    55\r\n",
      "    81   164    91\r\n",
      "    22   178    63\r\n",
      "    33   173    82\r\n",
      "\r\n"
     ]
    }
   ],
   "source": [
    "Women = [67 165 68; 35 171 65; 44 156 49; 53 169 55; 81 164 91; 22 178 63; 33 173 82]"
   ]
  },
  {
   "cell_type": "markdown",
   "metadata": {},
   "source": [
    "Aplicarea algoritmului Kabsch are 3 pasi, pentru aflarea matricei de rotatie:"
   ]
  },
  {
   "cell_type": "markdown",
   "metadata": {},
   "source": [
    "### 1) Translatia matricelor"
   ]
  },
  {
   "cell_type": "markdown",
   "metadata": {},
   "source": [
    "Primul pas consta in a realiza o translatie pentru fiecare matrice, in functie de centroidul corespunzator.\n",
    "Ce este acela un centroid? In linii mari, centroidul este un punct in spatiu (atentie, aici depinde de dimensiunea spatiului, care poate fi bi sau tridimensional, sau chiar n-dimensional), care ar reprezenta centrul de greutate al unui poligon (sau corp geometric) format prin unirea tutror punctelor, astfel incat sa obtinem o figura/ un corp convex. Cu alte cuvinte, se face referire la suma minima a distantelor euclidiene intre fiecare punct si centroid, la patrat (aka metoda celor mai mici patrate)."
   ]
  },
  {
   "cell_type": "markdown",
   "metadata": {},
   "source": [
    "Vom nota cei doi centroizi cu Cm, pentru barbati, si Cw pentru femei. Obtinem astfel:"
   ]
  },
  {
   "cell_type": "code",
   "execution_count": 5,
   "metadata": {},
   "outputs": [
    {
     "name": "stdout",
     "output_type": "stream",
     "text": [
      "Cm =\r\n",
      "\r\n",
      "    41.286   178.286    83.286\r\n",
      "\r\n"
     ]
    }
   ],
   "source": [
    "Cm = [sum(Men(:, 1)) sum(Men(:, 2)) sum(Men(:, 3))] / size(Men, 1)"
   ]
  },
  {
   "cell_type": "code",
   "execution_count": 6,
   "metadata": {},
   "outputs": [
    {
     "name": "stdout",
     "output_type": "stream",
     "text": [
      "Cw =\r\n",
      "\r\n",
      "    47.857   168.000    67.571\r\n",
      "\r\n"
     ]
    }
   ],
   "source": [
    "Cw = [sum(Women(:, 1)) sum(Women(:, 2)) sum(Women(:, 3))] / size(Women, 1)"
   ]
  },
  {
   "cell_type": "markdown",
   "metadata": {},
   "source": [
    "Acum vom face translatia in functie de centroizii obtinuti:"
   ]
  },
  {
   "cell_type": "code",
   "execution_count": 11,
   "metadata": {},
   "outputs": [
    {
     "name": "stdout",
     "output_type": "stream",
     "text": [
      "TMen =\r\n",
      "\r\n",
      "  -16.28571   -4.28571   -4.28571\r\n",
      "   -8.28571    2.71429   -7.28571\r\n",
      "  -14.28571   -0.28571    3.71429\r\n",
      "   15.71429   -0.28571    7.71429\r\n",
      "   26.71429  -11.28571   -9.28571\r\n",
      "   -0.28571    7.71429    2.71429\r\n",
      "   -3.28571    5.71429    6.71429\r\n",
      "\r\n"
     ]
    }
   ],
   "source": [
    "TMen = Men - ones(size(Men),1) * Cm"
   ]
  },
  {
   "cell_type": "code",
   "execution_count": 12,
   "metadata": {},
   "outputs": [
    {
     "name": "stdout",
     "output_type": "stream",
     "text": [
      "TWomen =\r\n",
      "\r\n",
      "   19.14286   -3.00000    0.42857\r\n",
      "  -12.85714    3.00000   -2.57143\r\n",
      "   -3.85714  -12.00000  -18.57143\r\n",
      "    5.14286    1.00000  -12.57143\r\n",
      "   33.14286   -4.00000   23.42857\r\n",
      "  -25.85714   10.00000   -4.57143\r\n",
      "  -14.85714    5.00000   14.42857\r\n",
      "\r\n"
     ]
    }
   ],
   "source": [
    "TWomen = Women - ones(size(Women),1) * Cw"
   ]
  },
  {
   "cell_type": "markdown",
   "metadata": {},
   "source": [
    "Dupa ce am reusit sa translatam cele doua matrici, trecem la pasul 2, anume gasirea matricei de covarianta."
   ]
  },
  {
   "cell_type": "markdown",
   "metadata": {},
   "source": [
    "### 2) Constructia matricei de covarianta"
   ]
  },
  {
   "cell_type": "markdown",
   "metadata": {},
   "source": [
    "Matricea de covarianta este, pe scurt, o matrice care prezinta \"volatilitatea\" dintre doua seturi de date. Ea poate fi calculata cu diferite formule, dar noi avem nevoie doar de una scurta si simpla, care exceleaza in problema noastra:"
   ]
  },
  {
   "cell_type": "markdown",
   "metadata": {},
   "source": [
    "$H = P^T * Q$"
   ]
  },
  {
   "cell_type": "code",
   "execution_count": 16,
   "metadata": {},
   "outputs": [
    {
     "name": "stdout",
     "output_type": "stream",
     "text": [
      "H =\r\n",
      "\r\n",
      "   872.286    85.000   661.857\r\n",
      "  -775.714   175.000  -217.143\r\n",
      "  -440.714    52.000  -282.143\r\n",
      "\r\n"
     ]
    }
   ],
   "source": [
    "H = TMen' * TWomen"
   ]
  },
  {
   "cell_type": "markdown",
   "metadata": {},
   "source": [
    "De ce alegem o formula de genul $P^T * Q$ si nu una de genul $Q^T * P$? Raspunsul este destul de intuitiv: cea de-a doua formula nu reprezinta altceva decat $H^T$"
   ]
  },
  {
   "cell_type": "markdown",
   "metadata": {},
   "source": [
    "$(P^T * Q)^T = Q^T * (P^T)^T = Q^T * P$ (reguli esentiale din liceu :) )"
   ]
  },
  {
   "cell_type": "markdown",
   "metadata": {},
   "source": [
    "Prin urmare, nu conteaza extrem de mult felul in care dorim sa aflam matricea H, aceasta fiind aceeasi indiferent de alegere, doar ca una este transpusa in comparatie cu cealalta."
   ]
  },
  {
   "cell_type": "markdown",
   "metadata": {},
   "source": [
    "O mica remarca in legatura cu H este faptul ca ea trebuie sa fie in general o matrice patratica. Ultimul pas consta in calcularea matricei de rotatie efectiva, folosindu-ne strict de matricea de corelatie gasita la pasul anterior."
   ]
  },
  {
   "cell_type": "markdown",
   "metadata": {},
   "source": [
    "### 3)Calculul matricei de rotatie optima "
   ]
  },
  {
   "cell_type": "markdown",
   "metadata": {},
   "source": [
    "Pentru calculul acesteia, putem folosi o formula \"clasica\", gasita de asemenea pe internet:"
   ]
  },
  {
   "cell_type": "markdown",
   "metadata": {},
   "source": [
    "$R = (H^T * H)^{1/2} * H^{-1}$"
   ]
  },
  {
   "cell_type": "markdown",
   "metadata": {},
   "source": [
    "Desigur, formula, la prima vedere, nu pare super intuitiva. Pe langa faptul ca prezinta si anumite probleme, cum ar fi faptul ca det(H) poate fi egal cu 0. Adica matricea H este neinversabila, deci nu putem calcula R cu aceasta metoda intotdeauna."
   ]
  },
  {
   "cell_type": "markdown",
   "metadata": {},
   "source": [
    "Care ramane solutia acestei probleme? Descompunerea matricei H in valori singulare :("
   ]
  },
  {
   "cell_type": "markdown",
   "metadata": {},
   "source": [
    "Vom avea niste linii suplimentare de scris, insa orice lucru in plus are un cost suplimentar in viata. Atat timp cat putem rezolva o problema destul mare, nu ar trebui sa ne para rau."
   ]
  },
  {
   "cell_type": "markdown",
   "metadata": {},
   "source": [
    "Prin urmare, facem descompunerea lui H:"
   ]
  },
  {
   "cell_type": "code",
   "execution_count": 17,
   "metadata": {},
   "outputs": [
    {
     "name": "stdout",
     "output_type": "stream",
     "text": [
      "U =\r\n",
      "\r\n",
      "  -0.7536293  -0.5901396   0.2894445\r\n",
      "   0.5467367  -0.8072476  -0.2223292\r\n",
      "   0.3648587  -0.0093039   0.9310164\r\n",
      "\r\n",
      "S =\r\n",
      "\r\n",
      "Diagonal Matrix\r\n",
      "\r\n",
      "   1436.977          0          0\r\n",
      "          0    308.881          0\r\n",
      "          0          0     43.574\r\n",
      "\r\n",
      "V =\r\n",
      "\r\n",
      "  -0.864516   0.374007   0.335753\r\n",
      "   0.035208  -0.621321   0.782765\r\n",
      "  -0.501370  -0.688534  -0.523974\r\n",
      "\r\n"
     ]
    }
   ],
   "source": [
    "[U S V] = svd(H)"
   ]
  },
  {
   "cell_type": "markdown",
   "metadata": {},
   "source": [
    "Apoi, trebuie sa ne asiguram ca rotatia pe care vrem sa o facem este intr-un sens bine cunoscut. Conventional, vom alege acest sens spre dreapta. Desi pare putin ambiguu ceea ce facem aici, o sa explicam imediat ce si cum (in linii mari, fara concepte prea hardcore)"
   ]
  },
  {
   "cell_type": "code",
   "execution_count": 18,
   "metadata": {},
   "outputs": [
    {
     "name": "stdout",
     "output_type": "stream",
     "text": [
      "d = -1\r\n"
     ]
    }
   ],
   "source": [
    "d = sign(det(V*U'))"
   ]
  },
  {
   "cell_type": "markdown",
   "metadata": {},
   "source": [
    "Acum vin intrebarile: ce s-a intamplat aici? Din moment ce ne intereseaza in ce directie vrem sa facem rotatia, lucrul care ne intereseaza, de fapt, este SENSUL. Cum putem exprima sensul? Fie pozitiv semnul \"+\", fie negativ, semnul \"-\". Functia sign ne da semnul determinantului de mai sus. Tot din liceu, avem niste relatii si pentru determinanti, care ne fac sa inteleg niste chestii mult mai usor:"
   ]
  },
  {
   "cell_type": "markdown",
   "metadata": {},
   "source": [
    "$det(A * B) = det(A) * det(B)$"
   ]
  },
  {
   "cell_type": "markdown",
   "metadata": {},
   "source": [
    "Acestea fiind spuse, putem simplu sa facem legatura: pe noi ne intereseaza, de fapt, semnul fiecarui determinant in parte: det(V) si det(U<sup>T</sup>). Totul s-ar reduce dupa la produsul semnelor, studiat cel mai probabil in gimnaziu."
   ]
  },
  {
   "cell_type": "markdown",
   "metadata": {},
   "source": [
    "In final, matricea de rotatie va avea urmatoarea forma:"
   ]
  },
  {
   "cell_type": "code",
   "execution_count": 21,
   "metadata": {},
   "outputs": [
    {
     "name": "stdout",
     "output_type": "stream",
     "text": [
      "D =\n",
      "\n",
      "Diagonal Matrix\n",
      "\n",
      "   1   0   0\n",
      "   0   1   0\n",
      "   0   0   1\n",
      "\n",
      "D =\n",
      "\n",
      "Diagonal Matrix\n",
      "\n",
      "   1   0   0\n",
      "   0   1   0\n",
      "   0   0  -1\n",
      "\n",
      "R =\n",
      "\n",
      "   0.33363  -0.69993  -0.63150\n",
      "   0.11357   0.69484  -0.71014\n",
      "   0.93584   0.16521   0.31131\n",
      "\n"
     ]
    }
   ],
   "source": [
    "D = eye(size(H))\n",
    "D(end, end) = d\n",
    "R = V * D * U'"
   ]
  },
  {
   "cell_type": "markdown",
   "metadata": {},
   "source": [
    "Fun fact: determinantul matricei de rotatie este mereu egal cu 1."
   ]
  },
  {
   "cell_type": "code",
   "execution_count": 22,
   "metadata": {},
   "outputs": [
    {
     "name": "stdout",
     "output_type": "stream",
     "text": [
      "ans =  1.00000\r\n"
     ]
    }
   ],
   "source": [
    "det(R)"
   ]
  },
  {
   "cell_type": "markdown",
   "metadata": {},
   "source": [
    "Pentru olimpicii care doresc sa aprofundeze si care nu se multumesc cu putin, avem mai multe detalii la acest link: https://math.nist.gov/~JBernal/kujustf.pdf"
   ]
  }
 ],
 "metadata": {
  "kernelspec": {
   "display_name": "Octave",
   "language": "octave",
   "name": "octave"
  },
  "language_info": {
   "file_extension": ".m",
   "help_links": [
    {
     "text": "GNU Octave",
     "url": "https://www.gnu.org/software/octave/support.html"
    },
    {
     "text": "Octave Kernel",
     "url": "https://github.com/Calysto/octave_kernel"
    },
    {
     "text": "MetaKernel Magics",
     "url": "https://metakernel.readthedocs.io/en/latest/source/README.html"
    }
   ],
   "mimetype": "text/x-octave",
   "name": "octave",
   "version": "4.2.2"
  }
 },
 "nbformat": 4,
 "nbformat_minor": 2
}

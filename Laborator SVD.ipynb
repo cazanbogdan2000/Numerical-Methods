{
 "cells": [
  {
   "cell_type": "markdown",
   "metadata": {},
   "source": [
    "# Descompunerea in valori singulare"
   ]
  },
  {
   "cell_type": "markdown",
   "metadata": {},
   "source": [
    "Bun venit in laboratorul de metode numerice. Astazi ne vom ocupa de studiul valorilor singulare, precum si de decompunerea unei matrici cu ajutorul acestora.\n",
    "Pentru inceput, trebuie sa trecem prin laboratorul dedicat acestei lectii, pentru a putea intelege fara mari probleme codul si micile \"experimente\" pe care le planuim sa le facem. Sa incepem!"
   ]
  },
  {
   "cell_type": "markdown",
   "metadata": {},
   "source": [
    "Sa ne amintim de matricea X din laborator, a carei descompunere in valori singulare este deja facuta. Folosind aceasta matrice, vom putea compara in timp real rezultatul\n",
    "algoritmilor pe care ii vom prezenta cu rezultatul matematic obtinut."
   ]
  },
  {
   "cell_type": "markdown",
   "metadata": {},
   "source": [
    "$$X = \\begin{pmatrix} 1 & 0 & 1 \\\\ 0 & 1 & 0 \\\\ 0 & 1 & 1 \\\\ 0 & 1 & 0 \\\\ 1 & 1 & 0 \\end{pmatrix}$$"
   ]
  },
  {
   "cell_type": "markdown",
   "metadata": {},
   "source": [
    "Descompunerea acesteia in valori singulare ne-a dat:"
   ]
  },
  {
   "cell_type": "markdown",
   "metadata": {},
   "source": [
    "$$X = \\begin{pmatrix} \\frac{\\sqrt{30}}{15} & \\frac{\\sqrt{6}}{3} & 0 & 0 & -\\frac{\\sqrt{7}}{7} \\\\ \\frac{\\sqrt{30}}{15} & -\\frac{\\sqrt{6}}{6} & 0 & -\\frac{\\sqrt{2}}{2} & \\frac{2\\sqrt{7}}{7} \\\\ \\frac{\\sqrt{30}}{10} & 0 & \\frac{\\sqrt{2}}{2} & 0 & \\frac{\\sqrt{7}}{7} \\\\ \\frac{\\sqrt{30}}{15} & -\\frac{\\sqrt{6}}{6} & 0 & \\frac{\\sqrt{2}}{2} & 0 \\\\ \\frac{\\sqrt{30}}{10} & 0 & -\\frac{\\sqrt{2}}{2} & 0 & \\frac{\\sqrt{7}}{7} \\end{pmatrix} * \\begin{pmatrix} \\sqrt{5} & 0 & 0 \\\\ 0 & \\sqrt{2} & 0 \\\\ 0 & 0 & 1 \\\\ 0 & 0 & 0 \\\\ 0 & 0 &0 \\end{pmatrix} * \\begin{pmatrix} \\frac{\\sqrt{6}}{6} & \\frac{\\sqrt{6}}{3} & \\frac{\\sqrt{6}}{6} \\\\ \\frac{\\sqrt{3}}{3} & -\\frac{\\sqrt{3}}{3} & \\frac{\\sqrt{3}}{3} \\\\ -\\frac{\\sqrt{2}}{2} & 0 & \\frac{\\sqrt{2}}{2} \\end{pmatrix}$$"
   ]
  },
  {
   "cell_type": "markdown",
   "metadata": {},
   "source": [
    "Cu X<sub>[5x3]</sub> = U<sub>[5x5]</sub> * S<sub>[5x3]</sub> * V<sup>T</sup><sub>[3x3]</sub>"
   ]
  },
  {
   "cell_type": "markdown",
   "metadata": {},
   "source": [
    "In primul rand, vom initializa matricea X, si vom forma matricile corespunzatoare A<sub>1</sub> si A<sub>2</sub>."
   ]
  },
  {
   "cell_type": "code",
   "execution_count": 3,
   "metadata": {},
   "outputs": [
    {
     "name": "stdout",
     "output_type": "stream",
     "text": [
      "X =\r\n",
      "\r\n",
      "   1   0   1\r\n",
      "   0   1   0\r\n",
      "   0   1   1\r\n",
      "   0   1   0\r\n",
      "   1   1   0\r\n",
      "\r\n"
     ]
    }
   ],
   "source": [
    "X = [1 0 1; 0 1 0; 0 1 1; 0 1 0; 1 1 0]"
   ]
  },
  {
   "cell_type": "code",
   "execution_count": 4,
   "metadata": {},
   "outputs": [
    {
     "name": "stdout",
     "output_type": "stream",
     "text": [
      "A1 =\r\n",
      "\r\n",
      "   2   0   1   0   1\r\n",
      "   0   1   1   1   1\r\n",
      "   1   1   2   1   1\r\n",
      "   0   1   1   1   1\r\n",
      "   1   1   1   1   2\r\n",
      "\r\n"
     ]
    }
   ],
   "source": [
    "A1 = X * X'"
   ]
  },
  {
   "cell_type": "code",
   "execution_count": 7,
   "metadata": {},
   "outputs": [
    {
     "name": "stdout",
     "output_type": "stream",
     "text": [
      "A2 =\r\n",
      "\r\n",
      "   2   1   1\r\n",
      "   1   4   1\r\n",
      "   1   1   2\r\n",
      "\r\n"
     ]
    }
   ],
   "source": [
    "A2 = X' * X"
   ]
  },
  {
   "cell_type": "markdown",
   "metadata": {},
   "source": [
    "Apoi, pentru calcularea matricei S, vom avea nevoie doar de valorile proprii diferite de 0, deci fom lua matricea A de dimensiune mica, adica A<sub>2</sub>."
   ]
  },
  {
   "cell_type": "markdown",
   "metadata": {},
   "source": [
    "Vom folosi, pentru usurinta, functia <u>eig</u> pentru calcularea valorilor proprii:"
   ]
  },
  {
   "cell_type": "code",
   "execution_count": 8,
   "metadata": {},
   "outputs": [
    {
     "name": "stdout",
     "output_type": "stream",
     "text": [
      "lambda =\r\n",
      "\r\n",
      "   1.00000\r\n",
      "   2.00000\r\n",
      "   5.00000\r\n",
      "\r\n"
     ]
    }
   ],
   "source": [
    "%notam cu lambda vectorul coloana care ne da toate valorile proprii\n",
    "%trebuie sa fim atenti si sa nu confundam cu vectorii specifici valorilor proprii\n",
    "lambda = eig(A2)"
   ]
  },
  {
   "cell_type": "markdown",
   "metadata": {},
   "source": [
    "Observam ca valorile proprii rezultate din aceasta functie sunt mereu in ordine crescatoare. Noi formam matricea S cu elementele in ordine inversa:"
   ]
  },
  {
   "cell_type": "code",
   "execution_count": 9,
   "metadata": {},
   "outputs": [
    {
     "name": "stdout",
     "output_type": "stream",
     "text": [
      "S =\r\n",
      "\r\n",
      "   2.23607   0.00000   0.00000\r\n",
      "   0.00000   1.41421   0.00000\r\n",
      "   0.00000   0.00000   1.00000\r\n",
      "\r\n"
     ]
    }
   ],
   "source": [
    "S = diag(lambda(end:-1:1)) .^ (1/2)"
   ]
  },
  {
   "cell_type": "markdown",
   "metadata": {},
   "source": [
    "In caz ca pare dubios one-liner ul de mai sus, il vom explica pe pasi:\n",
    "1. end reprezinta sfarsitul unui vector; deci, end:-1:1 inseamna elementele de la sfarsit la inceput(-1 este pasul), adica veectorul inversat\n",
    "2. functia diag transforma un vector intr-o matrice diagonala\n",
    "3. folosim operatorul special \" .^ \", specific matlab/octave, care ridica fiecare element in parte la puterea 1/2."
   ]
  },
  {
   "cell_type": "code",
   "execution_count": 10,
   "metadata": {},
   "outputs": [
    {
     "name": "stdout",
     "output_type": "stream",
     "text": [
      "lambda =\n",
      "\n",
      "   1.00000\n",
      "   2.00000\n",
      "   5.00000\n",
      "\n",
      "ans =\n",
      "\n",
      "   5.00000\n",
      "   2.00000\n",
      "   1.00000\n",
      "\n",
      "ans =\n",
      "\n",
      "Diagonal Matrix\n",
      "\n",
      "   5.00000         0         0\n",
      "         0   2.00000         0\n",
      "         0         0   1.00000\n",
      "\n",
      "ans =\n",
      "\n",
      "   2.23607   0.00000   0.00000\n",
      "   0.00000   1.41421   0.00000\n",
      "   0.00000   0.00000   1.00000\n",
      "\n",
      "ans =\n",
      "\n",
      "Diagonal Matrix\n",
      "\n",
      "   2.23607         0         0\n",
      "         0   1.41421         0\n",
      "         0         0   1.00000\n",
      "\n",
      "Hmmm... rezultatul este acelasi?!\n"
     ]
    }
   ],
   "source": [
    "%vom afisa fiecare etapa, pentru a fi totul mai evident\n",
    "lambda\n",
    "lambda(end:-1:1)\n",
    "diag(lambda(end:-1:1))\n",
    "diag(lambda(end:-1:1)) .^ (1/2)\n",
    "\n",
    "diag(lambda(end:-1:1)) ^ (1/2)\n",
    "\n",
    "printf(\"Hmmm... rezultatul este acelasi?!\\n\");"
   ]
  },
  {
   "cell_type": "markdown",
   "metadata": {},
   "source": [
    "Ca un mic reminder, matricea S este matrice DIAGONALA. O proprietate importanta a acesteia este ca matricea ridicata la o putere q(numar real) este egala cu fiecare element ridicat la respectiva putere.\n",
    "$$D = \\begin{pmatrix} a_{11} & 0 & \\dots & 0\\\\ 0 & a_{22} & \\dots & 0 \\\\ \\vdots & \\vdots & \\ddots & \\vdots \\\\ 0 & 0 & \\dots & a_{nn} \\end{pmatrix}$$"
   ]
  },
  {
   "cell_type": "markdown",
   "metadata": {},
   "source": [
    "Deci, matricea diagonala ridicata la o putere q, nu neaparat naturala, este:\n",
    "$$ D^q = \\begin{pmatrix} a_{11}^q & 0 & \\dots & 0\\\\ 0 & a_{22}^q & \\dots & 0 \\\\ \\vdots & \\vdots & \\ddots & \\vdots \\\\ 0 & 0 & \\dots & a_{nn}^q \\end{pmatrix}$$"
   ]
  },
  {
   "cell_type": "markdown",
   "metadata": {},
   "source": [
    "Asadar, pentru o matrice diagonala, D^q <=> D.^q"
   ]
  },
  {
   "cell_type": "markdown",
   "metadata": {},
   "source": [
    "Dupa ce am calculat valorile PROPRII necesare, prin urmare si gasirea matricei S, urmeaza sa calculam matricile U, respectiv V.\n",
    "Pentru ca putem sa folosim mai multi algoritmi de calculare a vectorilor de valori proprii, ne vom folosi functia deja definita in matlab/octave, eig, care primeste ca parametru o matrice si returneaza vectorul de valori proprii in cazul in care dam un singur parametru, dar si MATRICEA DE VECTORI PROPRII, in cazul in care mai dam un parametru in plus."
   ]
  },
  {
   "cell_type": "markdown",
   "metadata": {},
   "source": [
    "<b>CALCULAREA LUI U:</b>"
   ]
  },
  {
   "cell_type": "markdown",
   "metadata": {},
   "source": [
    "Prin urmare, daca ne folosim de functia deja data, eig, cu doi parametri, vom avea urmatoarele:"
   ]
  },
  {
   "cell_type": "code",
   "execution_count": 11,
   "metadata": {},
   "outputs": [
    {
     "name": "stdout",
     "output_type": "stream",
     "text": [
      "U =\r\n",
      "\r\n",
      "   3.7558e-01  -2.4277e-01   3.4694e-17   8.1650e-01   3.6515e-01\r\n",
      "   7.5943e-01   3.5108e-01  -1.9169e-16  -4.0825e-01   3.6515e-01\r\n",
      "  -3.7558e-01   2.4277e-01  -7.0711e-01   7.1132e-17   5.4772e-01\r\n",
      "  -8.2664e-03  -8.3662e-01   1.2100e-16  -4.0825e-01   3.6515e-01\r\n",
      "  -3.7558e-01   2.4277e-01   7.0711e-01  -1.7106e-17   5.4772e-01\r\n",
      "\r\n",
      "lambda =\r\n",
      "\r\n",
      "Diagonal Matrix\r\n",
      "\r\n",
      "  -1.6930e-16            0            0            0            0\r\n",
      "            0   4.0523e-16            0            0            0\r\n",
      "            0            0   1.0000e+00            0            0\r\n",
      "            0            0            0   2.0000e+00            0\r\n",
      "            0            0            0            0   5.0000e+00\r\n",
      "\r\n"
     ]
    }
   ],
   "source": [
    "[U lambda] = eig(A1)"
   ]
  },
  {
   "cell_type": "markdown",
   "metadata": {},
   "source": [
    "Cateva observatii evidente: vectorul de valori proprii se transforma intr-o matrice diagonala, cu valorile sale insa in ordine crescatoare.\n",
    "Prin urmare, ceea ce avem noi de facut este sa interschimbam coloanele din U, in felul urmator: prima coloana cu ultima coloana, a doua cu penultima, etc."
   ]
  },
  {
   "cell_type": "code",
   "execution_count": 12,
   "metadata": {},
   "outputs": [
    {
     "name": "stdout",
     "output_type": "stream",
     "text": [
      "U =\r\n",
      "\r\n",
      "   3.6515e-01   8.1650e-01   3.4694e-17  -2.4277e-01   3.7558e-01\r\n",
      "   3.6515e-01  -4.0825e-01  -1.9169e-16   3.5108e-01   7.5943e-01\r\n",
      "   5.4772e-01   7.1132e-17  -7.0711e-01   2.4277e-01  -3.7558e-01\r\n",
      "   3.6515e-01  -4.0825e-01   1.2100e-16  -8.3662e-01  -8.2664e-03\r\n",
      "   5.4772e-01  -1.7106e-17   7.0711e-01   2.4277e-01  -3.7558e-01\r\n",
      "\r\n"
     ]
    }
   ],
   "source": [
    "U = U(1:end, end:-1:1)"
   ]
  },
  {
   "cell_type": "markdown",
   "metadata": {},
   "source": [
    "Poate ca vedem niste cifre si litere pe care nu prea le intelegem. Nu e nimic bizar in spate. 3.6515e-01 inseamna numarul 3.6515 este inmultit cu e-01, adica 10<sup>-1</sup>. Prin urmare, numerele care se termina in e-15, e-16, etc. le putem considera ca fiind egale cu 0, intrucat sunt mult prea mici pentru a fi considerate semnificative. Observam deci ca realitatea difera putin de fenomenul matematic, totul realizandu-se prin aproximari succesive, a caror eroare se propaga in timp, din pacate :( Ceea ce trebuie sa urmarim noi in general la Metode Numerice, si in general, in Computer Sience, este ca eroarea noastra sa se propage cat mai putin, pentru a putea avea un fenomen comparabil cu cel matematic."
   ]
  },
  {
   "cell_type": "markdown",
   "metadata": {},
   "source": [
    "In cazul de mai sus, nu trebuie sa ne facem probleme de genul, deci ceea ce am facut nu trebuie sa sperie pe nimeni. Prin urmare, putem face si comparatie: 3.6515e-01 este aproximativ egal cu 0.36515, adica chiar $\\frac{\\sqrt{30}}{15}$, un rezultat care ne bucura."
   ]
  },
  {
   "cell_type": "markdown",
   "metadata": {},
   "source": [
    "O observatie foarte IMPORTANTA!!! Vedem ca ultimele doua coloane din matrice difera enorm de mult fata de rezultatul matematic. Daca ne amintim bine, ultimele doua valori proprii erau egale cu 0, prin urmare am fi obtinut doi vectori liniar independenti."
   ]
  },
  {
   "cell_type": "markdown",
   "metadata": {},
   "source": [
    "Pentru a calcula un vector propriu, trebuie sa inlocuim in relatia $A \\cdot v = \\lambda \\cdot v$ pe $\\lambda$ cu valoarea proprie corespunzatoare. In cazul nostru, cu 0."
   ]
  },
  {
   "cell_type": "markdown",
   "metadata": {},
   "source": [
    "Avand doua valori proprii egale cu 0, atunci vom obtine din start doi vectori proprii."
   ]
  },
  {
   "cell_type": "markdown",
   "metadata": {},
   "source": [
    "Fie $$v = \\begin{pmatrix} v_1 \\\\ v_2 \\\\ v_3 \\\\ v_4 \\\\ v_5 \\end{pmatrix}$$"
   ]
  },
  {
   "cell_type": "markdown",
   "metadata": {},
   "source": [
    "Din $A_1 \\cdot v = 0$ (intrucat matricea noastra era de fapt A<sub>1</sub>),vom obtine urmatorul sistem de ecuatii:"
   ]
  },
  {
   "cell_type": "markdown",
   "metadata": {},
   "source": [
    "$$\\begin{cases} 2v_1 + v_3 + v_5 = 0 \\\\ v_2 + v_3 + v_4 + v_5 = 0 \\\\ v_1 + v_2 + 2v_3 + v_4 + v_5 = 0 \\\\ v_2 + v_3 + v_4 + v_5 = 0 \\\\ v_1 + v_2 + v_3 + v_4 + 2v_5 = 0 \\end{cases}$$"
   ]
  },
  {
   "cell_type": "markdown",
   "metadata": {},
   "source": [
    "Sistemul de mai sus este dublu nedeterminat, in care vom lua v<sub>4</sub> si v<sub>5</sub> termenii secundari. Prin urmare, noul nostru v va fi de forma:"
   ]
  },
  {
   "cell_type": "markdown",
   "metadata": {},
   "source": [
    "$$v = \\begin{pmatrix} -v_5 \\\\ -2v_5 - v_4 \\\\ v_5 \\\\ v_4 \\\\ v_5 \\end{pmatrix} = v_4 \\cdot \\begin{pmatrix} 0 \\\\ -1 \\\\ 0 \\\\ 1 \\\\ 0 \\end{pmatrix} + v_5 \\cdot \\begin{pmatrix} -1 \\\\ -2 \\\\ 1 \\\\ 0 \\\\ 1 \\end{pmatrix}$$"
   ]
  },
  {
   "cell_type": "markdown",
   "metadata": {},
   "source": [
    "Ce inseamna asta?? Ceea ce am obtinut mai sus, in cifre, este o baza, in care cei doi vectori sunt lininar independenti. Dand valori pentru v<sub>4</sub> si v<sub>5</sub>, vom obtine valori diferite pentru v, care este un vector propriu. Prin urmare noi am dat doua randuri de valori, adica 1 si 0, respectiv 0 si 1. Asta pentru a obtine cele mai \"frumoase\" rezultate. Pe hartie. Insa, daca am da si alte valori pentru v<sub>4</sub> si v<sub>5</sub>, am obtine valori diferite pentru v. Dar asta nu este o problema, intrucat nu conteaza, atata vreme cat v nu este altceva decat o combinatie liniara dintre elementele bazei ortogonale."
   ]
  },
  {
   "cell_type": "markdown",
   "metadata": {},
   "source": [
    "De aici rezulta ca si semnele schimbate pe care le tot vedem (in unele cazuri) nu reprezinta probleme computationale."
   ]
  },
  {
   "cell_type": "markdown",
   "metadata": {},
   "source": [
    "Prin urmare, unicitatea factorizarii SVD nu trebuie tratata mot a mot; unicitatea consta in existenta unei baze ortogonale unice, din care se pot desprinde diferite valori pentru matricile U, S, respectiv V. Rezultatul va fi mereu acelasi, adica matricea X."
   ]
  },
  {
   "cell_type": "markdown",
   "metadata": {},
   "source": [
    "<b>CALCULAREA LUI V:</b>"
   ]
  },
  {
   "cell_type": "markdown",
   "metadata": {},
   "source": [
    "Procedeul este identic cu cel descris mai sus, in cazul lui U. Prin urmare vom calcula direct."
   ]
  },
  {
   "cell_type": "code",
   "execution_count": 5,
   "metadata": {},
   "outputs": [
    {
     "name": "stdout",
     "output_type": "stream",
     "text": [
      "error: 'A2' undefined near line 1 column 19\n",
      "error: invalid use of end\n"
     ]
    }
   ],
   "source": [
    "[V, lambda] = eig(A2)\n",
    "V = V(1:end, end:-1:1)"
   ]
  },
  {
   "cell_type": "markdown",
   "metadata": {},
   "source": [
    "Avand in vedere ca am reusit sa obtinem toate cele 3 matrici necesare, vom face si verificarea finala:"
   ]
  },
  {
   "cell_type": "code",
   "execution_count": 15,
   "metadata": {},
   "outputs": [
    {
     "name": "stdout",
     "output_type": "stream",
     "text": [
      "error: operator *: nonconformant arguments (op1 is 5x5, op2 is 3x3)\r\n"
     ]
    }
   ],
   "source": [
    "U * S * V'"
   ]
  },
  {
   "cell_type": "markdown",
   "metadata": {},
   "source": [
    "Observam o mica eroare, datorata formei lui S, care este, momentan, 3 x 3. Vom rezolva elegant problema"
   ]
  },
  {
   "cell_type": "code",
   "execution_count": 16,
   "metadata": {},
   "outputs": [
    {
     "name": "stdout",
     "output_type": "stream",
     "text": [
      "S =\r\n",
      "\r\n",
      "   2.23607   0.00000   0.00000\r\n",
      "   0.00000   1.41421   0.00000\r\n",
      "   0.00000   0.00000   1.00000\r\n",
      "   0.00000   0.00000   0.00000\r\n",
      "   0.00000   0.00000   0.00000\r\n",
      "\r\n"
     ]
    }
   ],
   "source": [
    "%aflam dimensiunea lui A\n",
    "[m n] = size(X);\n",
    "%lasam octave sa faca autocomplete cu 0, in felul urmator\n",
    "S(m,n) = 0\n",
    "%deci atribuim unui element de pe o pozitie inexistenta 0, in felul urmator, se vor genera\n",
    "%liniile si coloanele inexistente pana in acel loc, initializandu-se totodata cu 0"
   ]
  },
  {
   "cell_type": "code",
   "execution_count": 17,
   "metadata": {},
   "outputs": [
    {
     "name": "stdout",
     "output_type": "stream",
     "text": [
      "ans =\r\n",
      "\r\n",
      "   1.0000e+00  -1.0448e-15   1.0000e+00\r\n",
      "  -1.1542e-16   1.0000e+00   6.2552e-16\r\n",
      "   3.5668e-16   1.0000e+00   1.0000e+00\r\n",
      "  -2.2518e-17   1.0000e+00   2.7622e-16\r\n",
      "   1.0000e+00   1.0000e+00   2.9723e-16\r\n",
      "\r\n"
     ]
    }
   ],
   "source": [
    "%verificarea acum ar trebui sa mearga\n",
    "U * S * V'"
   ]
  },
  {
   "cell_type": "markdown",
   "metadata": {},
   "source": [
    "Aducandu-ne aminte de discutia cu e, putem constata cu mandrie ca rezultatul de mai sus este cel corect."
   ]
  },
  {
   "cell_type": "markdown",
   "metadata": {},
   "source": [
    "Putem face si o comparatie cu functia din octave, svd:"
   ]
  },
  {
   "cell_type": "code",
   "execution_count": 18,
   "metadata": {},
   "outputs": [
    {
     "name": "stdout",
     "output_type": "stream",
     "text": [
      "U_new =\n",
      "\n",
      "  -3.6515e-01   8.1650e-01   2.3955e-16   1.1839e-01  -4.3126e-01\n",
      "  -3.6515e-01  -4.0825e-01  -6.7318e-17  -5.6349e-01  -6.1845e-01\n",
      "  -5.4772e-01  -1.0566e-16   7.0711e-01  -1.1839e-01   4.3126e-01\n",
      "  -3.6515e-01  -4.0825e-01  -7.9046e-17   8.0027e-01  -2.4407e-01\n",
      "  -5.4772e-01   2.6362e-16  -7.0711e-01  -1.1839e-01   4.3126e-01\n",
      "\n",
      "S_new =\n",
      "\n",
      "Diagonal Matrix\n",
      "\n",
      "   2.2361        0        0\n",
      "        0   1.4142        0\n",
      "        0        0   1.0000\n",
      "        0        0        0\n",
      "        0        0        0\n",
      "\n",
      "V_new =\n",
      "\n",
      "  -4.0825e-01   5.7735e-01  -7.0711e-01\n",
      "  -8.1650e-01  -5.7735e-01  -3.0175e-18\n",
      "  -4.0825e-01   5.7735e-01   7.0711e-01\n",
      "\n",
      "U =\n",
      "\n",
      "   3.6515e-01   8.1650e-01   3.4694e-17  -2.4277e-01   3.7558e-01\n",
      "   3.6515e-01  -4.0825e-01  -1.9169e-16   3.5108e-01   7.5943e-01\n",
      "   5.4772e-01   7.1132e-17  -7.0711e-01   2.4277e-01  -3.7558e-01\n",
      "   3.6515e-01  -4.0825e-01   1.2100e-16  -8.3662e-01  -8.2664e-03\n",
      "   5.4772e-01  -1.7106e-17   7.0711e-01   2.4277e-01  -3.7558e-01\n",
      "\n",
      "S =\n",
      "\n",
      "   2.23607   0.00000   0.00000\n",
      "   0.00000   1.41421   0.00000\n",
      "   0.00000   0.00000   1.00000\n",
      "   0.00000   0.00000   0.00000\n",
      "   0.00000   0.00000   0.00000\n",
      "\n",
      "V =\n",
      "\n",
      "   4.0825e-01   5.7735e-01   7.0711e-01\n",
      "   8.1650e-01  -5.7735e-01   2.4980e-16\n",
      "   4.0825e-01   5.7735e-01  -7.0711e-01\n",
      "\n"
     ]
    }
   ],
   "source": [
    "[S_nU_new ew V_new] = svd(X)\n",
    "U\n",
    "S\n",
    "V"
   ]
  },
  {
   "cell_type": "markdown",
   "metadata": {},
   "source": [
    "Cu exceptia a catorva semne, se observa ca singurele lucruri care difera in mod deosebit sunt cele doua coloane de la sfarsitul lui U.\n",
    "Motivul este clar, intrucat cei doi vectori vin in urma unui sistem dublu nedeterminat(dand posibilitatea mai multor valori care sa genereze cei doi vectori proprii)."
   ]
  },
  {
   "cell_type": "markdown",
   "metadata": {},
   "source": [
    "Functia din octave este putin diferita fata de ce am facut noi aici, apeland la niste artificii computationale, pentru a putea fi mai eficienta. Noi am dorit sa intelegem conceptul, asa ca nu ne-a interesat in mod deosebit eficienta."
   ]
  },
  {
   "cell_type": "markdown",
   "metadata": {},
   "source": [
    "Ca tema de casa, veti avea de implementat, cap coada, o functie octave care sa realizeze factorizarea SVD"
   ]
  },
  {
   "cell_type": "code",
   "execution_count": 19,
   "metadata": {},
   "outputs": [],
   "source": [
    "function [U S V] = SingValDec(X)\n",
    "%X - matricea asupra careia dorim sa aplicam factorizarea SVD\n",
    "%U - matrice patratica ce contine vectorii singulari de stanga\n",
    "%S - matrice diagonala, ce are ca elemente valorile singulare\n",
    "%V - matrice patratica ce contine vectorii singulari de dreapta\n",
    "\n",
    "endfunction"
   ]
  }
 ],
 "metadata": {
  "kernelspec": {
   "display_name": "Octave",
   "language": "octave",
   "name": "octave"
  },
  "language_info": {
   "file_extension": ".m",
   "help_links": [
    {
     "text": "GNU Octave",
     "url": "https://www.gnu.org/software/octave/support.html"
    },
    {
     "text": "Octave Kernel",
     "url": "https://github.com/Calysto/octave_kernel"
    },
    {
     "text": "MetaKernel Magics",
     "url": "https://metakernel.readthedocs.io/en/latest/source/README.html"
    }
   ],
   "mimetype": "text/x-octave",
   "name": "octave",
   "version": "5.2.0"
  }
 },
 "nbformat": 4,
 "nbformat_minor": 2
}
